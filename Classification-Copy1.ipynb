{
 "cells": [
  {
   "cell_type": "code",
   "execution_count": 1,
   "metadata": {
    "executionInfo": {
     "elapsed": 2549,
     "status": "ok",
     "timestamp": 1643878685177,
     "user": {
      "displayName": "Kalim Ullah",
      "photoUrl": "https://lh3.googleusercontent.com/a-/AOh14GiSTV-ChoAx8azYZoxPK4nJKXjjfC1Ztd890xT4oA=s64",
      "userId": "03962022331434700669"
     },
     "user_tz": -300
    },
    "id": "O-LARYvuGSR_"
   },
   "outputs": [
    {
     "name": "stderr",
     "output_type": "stream",
     "text": [
      "C:\\Users\\Ajinkya\\anaconda3\\lib\\site-packages\\requests\\__init__.py:89: RequestsDependencyWarning: urllib3 (1.26.9) or chardet (3.0.4) doesn't match a supported version!\n",
      "  warnings.warn(\"urllib3 ({}) or chardet ({}) doesn't match a supported \"\n",
      "C:\\Users\\Ajinkya\\anaconda3\\lib\\site-packages\\pydub\\utils.py:170: RuntimeWarning: Couldn't find ffmpeg or avconv - defaulting to ffmpeg, but may not work\n",
      "  warn(\"Couldn't find ffmpeg or avconv - defaulting to ffmpeg, but may not work\", RuntimeWarning)\n"
     ]
    }
   ],
   "source": [
    "import matplotlib.pyplot as plt\n",
    "from scipy.io import wavfile\n",
    "#%matplotlib inline\n",
    "import numpy as np\n",
    "#import IPython.display as ipd\n",
    "import librosa\n",
    "import librosa.display\n",
    "import scipy\n",
    "import sklearn\n",
    "import pandas as pd\n",
    "import base64\n",
    "import wave\n",
    "import os\n",
    "import glob\n",
    "import sklearn.externals\n",
    "import joblib\n",
    "from scipy.io.wavfile import read as read_wav\n",
    "from wave import open as open_wave\n",
    "from pydub import AudioSegment"
   ]
  },
  {
   "cell_type": "code",
   "execution_count": 2,
   "metadata": {},
   "outputs": [],
   "source": [
    "AJ_audio = \"C:/Users/Ajinkya/Downloads/Voice Authentication Project/AJ_mix/\"\n",
    "\n",
    "imposter_Audio = \"C:/Users/Ajinkya/Downloads/Voice Authentication Project/Imposter/\"\n",
    "\n",
    "imposter_audio2 = \"C:/Users/Ajinkya/Downloads/Voice Authentication Project/Ruby/\"\n",
    "\n",
    "imposter_audio3 = \"C:/Users/Ajinkya/Downloads/Voice Authentication Project/Twinkle/\"\n",
    "\n",
    "imposter_audio4 = \"C:/Users/Ajinkya/Downloads/Voice Authentication Project/Prakat/\""
   ]
  },
  {
   "cell_type": "code",
   "execution_count": 3,
   "metadata": {},
   "outputs": [
    {
     "name": "stderr",
     "output_type": "stream",
     "text": [
      "<ipython-input-3-c218a47ffa8c>:6: WavFileWarning: Chunk (non-data) not understood, skipping it.\n",
      "  wavs.append(read_wav(filename))\n"
     ]
    }
   ],
   "source": [
    "wavs = []\n",
    "audio_list1 = []\n",
    "filename = ''\n",
    "for filename in glob.glob(\"C:/Users/Ajinkya/Downloads/Voice Authentication Project/AJ_mix/*.wav\"):\n",
    "    audio_list1.append(filename)\n",
    "    wavs.append(read_wav(filename))\n",
    "\n",
    "wavs1 = []\n",
    "audio_list2 = []\n",
    "filename = ''\n",
    "for filename in glob.glob(\"C:/Users/Ajinkya/Downloads/Voice Authentication Project/Imposter/*.wav\"):\n",
    "    audio_list2.append(filename)\n",
    "    wavs1.append(read_wav(filename))\n",
    "    \n",
    "wavs2 = []\n",
    "audio_list3 = []\n",
    "filename = ''\n",
    "for filename in glob.glob(\"C:/Users/Ajinkya/Downloads/Voice Authentication Project/Ruby/*.wav\"):\n",
    "    audio_list3.append(filename)\n",
    "    wavs2.append(read_wav(filename))\n",
    "\n",
    "wavs3 = []\n",
    "audio_list4 = []\n",
    "filename = ''\n",
    "for filename in glob.glob(\"C:/Users/Ajinkya/Downloads/Voice Authentication Project/Twinkle/*.wav\"):\n",
    "    audio_list4.append(filename)\n",
    "    wavs3.append(read_wav(filename))\n",
    "    \n",
    "wavs4 = []\n",
    "audio_list5 = []\n",
    "filename = ''\n",
    "for filename in glob.glob(\"C:/Users/Ajinkya/Downloads/Voice Authentication Project/Prakat/*.wav\"):\n",
    "    audio_list5.append(filename)\n",
    "    wavs4.append(read_wav(filename))"
   ]
  },
  {
   "cell_type": "code",
   "execution_count": 4,
   "metadata": {
    "colab": {
     "base_uri": "https://localhost:8080/",
     "height": 206
    },
    "executionInfo": {
     "elapsed": 375,
     "status": "ok",
     "timestamp": 1643880649731,
     "user": {
      "displayName": "Kalim Ullah",
      "photoUrl": "https://lh3.googleusercontent.com/a-/AOh14GiSTV-ChoAx8azYZoxPK4nJKXjjfC1Ztd890xT4oA=s64",
      "userId": "03962022331434700669"
     },
     "user_tz": -300
    },
    "id": "zj9n-7Pigojm",
    "outputId": "107c154d-dc6a-4f2b-895e-9fb7fae44467"
   },
   "outputs": [],
   "source": [
    "data=np.zeros([280,21]);\n",
    "featuredf  = pd.DataFrame(data, columns = ['User', 'Average', 'std', 'zcr', 'centroid', 'rollof', 'mfcc1', 'mfcc2', 'mfcc3', 'mfcc4', 'mfcc5', 'mfcc6', 'mfcc7', 'mfcc8', 'mfcc9', 'mfcc10', 'mfcc11', 'mfcc12', 'mfcc13', 'mfcc14','label'])\n",
    "featuredf.iloc[0:120,0]='AJ';\n",
    "featuredf.iloc[120:160,0]='Imposter';\n",
    "featuredf.iloc[160:200,0]='Imposter2';\n",
    "featuredf.iloc[200:240,0]='Imposter3';\n",
    "featuredf.iloc[240:280,0]='Imposter4';\n",
    "featuredf.iloc[0:120,-1]=1;\n",
    "featuredf.iloc[120:160,-1]=0;\n",
    "featuredf.iloc[160:200,-1]=0;\n",
    "featuredf.iloc[200:240,-1]=0;\n",
    "featuredf.iloc[240:280,-1]=0;"
   ]
  },
  {
   "cell_type": "code",
   "execution_count": 27,
   "metadata": {},
   "outputs": [
    {
     "data": {
      "text/plain": [
       "48000"
      ]
     },
     "execution_count": 27,
     "metadata": {},
     "output_type": "execute_result"
    }
   ],
   "source": [
    "#AJ's sampling rate\n",
    "AJ = os.chdir(AJ_audio) # change to the file directory\n",
    "sr, x1=read_wav(\"AJ (1).wav\") # enter your filename\n",
    "sr"
   ]
  },
  {
   "cell_type": "code",
   "execution_count": 6,
   "metadata": {
    "colab": {
     "base_uri": "https://localhost:8080/"
    },
    "executionInfo": {
     "elapsed": 426,
     "status": "ok",
     "timestamp": 1643880658988,
     "user": {
      "displayName": "Kalim Ullah",
      "photoUrl": "https://lh3.googleusercontent.com/a-/AOh14GiSTV-ChoAx8azYZoxPK4nJKXjjfC1Ztd890xT4oA=s64",
      "userId": "03962022331434700669"
     },
     "user_tz": -300
    },
    "id": "3FiZST9cgojv",
    "outputId": "8c9958d4-946b-4b23-ccbc-f50dab2d68a5"
   },
   "outputs": [
    {
     "data": {
      "text/plain": [
       "44100"
      ]
     },
     "execution_count": 6,
     "metadata": {},
     "output_type": "execute_result"
    }
   ],
   "source": [
    "#Imposter's sampling rate\n",
    "Imposter1 = os.chdir(imposter_Audio) # change to the file directory\n",
    "sr1, x1=read_wav(\"Imposter (1).wav\") # enter your filename\n",
    "sr1"
   ]
  },
  {
   "cell_type": "code",
   "execution_count": 7,
   "metadata": {
    "colab": {
     "base_uri": "https://localhost:8080/"
    },
    "executionInfo": {
     "elapsed": 614,
     "status": "ok",
     "timestamp": 1643880665166,
     "user": {
      "displayName": "Kalim Ullah",
      "photoUrl": "https://lh3.googleusercontent.com/a-/AOh14GiSTV-ChoAx8azYZoxPK4nJKXjjfC1Ztd890xT4oA=s64",
      "userId": "03962022331434700669"
     },
     "user_tz": -300
    },
    "id": "E7NW_Pmagojv",
    "outputId": "51d930d5-a3f6-4c57-8394-b2ca5987b8d8"
   },
   "outputs": [
    {
     "data": {
      "text/plain": [
       "48000"
      ]
     },
     "execution_count": 7,
     "metadata": {},
     "output_type": "execute_result"
    }
   ],
   "source": [
    "#Imposter 2's sampling rate\n",
    "Imposter1 = os.chdir(imposter_audio2) # change to the file directory\n",
    "sr2, x2=read_wav(\"Ruby (1).wav\") # enter your filename\n",
    "sr2"
   ]
  },
  {
   "cell_type": "code",
   "execution_count": 8,
   "metadata": {},
   "outputs": [
    {
     "data": {
      "text/plain": [
       "44100"
      ]
     },
     "execution_count": 8,
     "metadata": {},
     "output_type": "execute_result"
    }
   ],
   "source": [
    "#Imposter 3's sampling rate\n",
    "Imposter1 = os.chdir(imposter_audio3) # change to the file directory\n",
    "sr3, x3=read_wav(\"Twinkle (1).wav\") # enter your filename\n",
    "sr3"
   ]
  },
  {
   "cell_type": "code",
   "execution_count": 9,
   "metadata": {},
   "outputs": [
    {
     "data": {
      "text/plain": [
       "48000"
      ]
     },
     "execution_count": 9,
     "metadata": {},
     "output_type": "execute_result"
    }
   ],
   "source": [
    "#Imposter 4's sampling rate\n",
    "Imposter1 = os.chdir(imposter_audio4) # change to the file directory\n",
    "sr4, x4=read_wav(\"Prakat (1).wav\") # enter your filename\n",
    "sr4"
   ]
  },
  {
   "cell_type": "code",
   "execution_count": 10,
   "metadata": {
    "executionInfo": {
     "elapsed": 4,
     "status": "ok",
     "timestamp": 1643880666625,
     "user": {
      "displayName": "Kalim Ullah",
      "photoUrl": "https://lh3.googleusercontent.com/a-/AOh14GiSTV-ChoAx8azYZoxPK4nJKXjjfC1Ztd890xT4oA=s64",
      "userId": "03962022331434700669"
     },
     "user_tz": -300
    },
    "id": "YwzB3ihKNhw7"
   },
   "outputs": [],
   "source": [
    "def normalize(x1, axis=0):\n",
    "    return sklearn.preprocessing.minmax_scale(x1, axis=axis)"
   ]
  },
  {
   "cell_type": "markdown",
   "metadata": {
    "id": "REgGo6oYj7sS"
   },
   "source": [
    "# AJ - Feature Extraction"
   ]
  },
  {
   "cell_type": "code",
   "execution_count": 11,
   "metadata": {
    "executionInfo": {
     "elapsed": 9483,
     "status": "ok",
     "timestamp": 1643880813626,
     "user": {
      "displayName": "Kalim Ullah",
      "photoUrl": "https://lh3.googleusercontent.com/a-/AOh14GiSTV-ChoAx8azYZoxPK4nJKXjjfC1Ztd890xT4oA=s64",
      "userId": "03962022331434700669"
     },
     "user_tz": -300
    },
    "id": "RHVN-5s1j7sS"
   },
   "outputs": [],
   "source": [
    "# AJ - Zooming in\n",
    "ind=0;\n",
    "for audio in audio_list1:\n",
    "    data,sample_rate=librosa.load(audio)\n",
    "    zero_crossings = librosa.zero_crossings(data, pad=False) \n",
    "    spectral_centroids = librosa.feature.spectral_centroid(data, sr=sr)[0]\n",
    "    spectral_rolloff = librosa.feature.spectral_rolloff(data+0.01, sr=sr)[0]\n",
    "    mfccs = librosa.feature.mfcc(data, sr=sr,n_mfcc=14)\n",
    "    featuredf.iloc[ind,1]=np.mean(data)\n",
    "    featuredf.iloc[ind,2]=np.std(data)\n",
    "#Spectral Centroid\n",
    "    featuredf.iloc[ind,4]=np.mean(normalize(spectral_centroids))\n",
    "#Zero Crossings\n",
    "    featuredf.iloc[ind,3]=sum(zero_crossings)\n",
    "#Spectral Rolloff\n",
    "    featuredf.iloc[ind,5]=np.mean(normalize(spectral_rolloff))\n",
    "#mfcc\n",
    "    featuredf.iloc[ind,6:20]=np.mean(mfccs,1)\n",
    "    ind=ind+1;"
   ]
  },
  {
   "cell_type": "markdown",
   "metadata": {},
   "source": [
    "# Imposter1 - Feature Extraction"
   ]
  },
  {
   "cell_type": "code",
   "execution_count": 12,
   "metadata": {},
   "outputs": [],
   "source": [
    "#Imposter - Zooming in\n",
    "ind=120;\n",
    "for audio1 in audio_list2:\n",
    "    data1,sample_rate1=librosa.load(audio1)\n",
    "    featuredf.iloc[ind,1]=np.mean(data1)\n",
    "    featuredf.iloc[ind,2]=np.std(data1)  \n",
    "    zero_crossings1 = librosa.zero_crossings(data1, pad=False)\n",
    "    spectral_centroids1 = librosa.feature.spectral_centroid(data1, sr=sr1)[0]\n",
    "    spectral_rolloff1 = librosa.feature.spectral_rolloff(data1+0.01, sr=sr1)[0]\n",
    "    mfccs1 = librosa.feature.mfcc(data1, sr=sr1,n_mfcc=14)\n",
    "#Spectral Centroid\n",
    "    featuredf.iloc[ind,4]=np.mean(normalize(spectral_centroids1))\n",
    "#Zero Crossings\n",
    "    featuredf.iloc[ind,3]=sum(zero_crossings1)\n",
    "#Spectral Rolloff\n",
    "    featuredf.iloc[ind,5]=np.mean(normalize(spectral_rolloff1))\n",
    "#mfcc\n",
    "    featuredf.iloc[ind,6:20]=np.mean(mfccs1,1)\n",
    "    ind=ind+1;"
   ]
  },
  {
   "cell_type": "markdown",
   "metadata": {},
   "source": [
    "# Imposter2 - Feature Extraction"
   ]
  },
  {
   "cell_type": "code",
   "execution_count": 13,
   "metadata": {},
   "outputs": [],
   "source": [
    "#Imposter2 - Zooming in\n",
    "ind=160;\n",
    "for audio2 in audio_list3:\n",
    "    data2,sample_rate2=librosa.load(audio2)\n",
    "    featuredf.iloc[ind,1]=np.mean(data2)\n",
    "    featuredf.iloc[ind,2]=np.std(data2)  \n",
    "    zero_crossings2 = librosa.zero_crossings(data2, pad=False)\n",
    "    spectral_centroids2 = librosa.feature.spectral_centroid(data2, sr=sr2)[0]\n",
    "    spectral_rolloff2 = librosa.feature.spectral_rolloff(data2+0.01, sr=sr2)[0]\n",
    "    mfccs2 = librosa.feature.mfcc(data2, sr=sr2,n_mfcc=14)\n",
    "#Spectral Centroid\n",
    "    featuredf.iloc[ind,4]=np.mean(normalize(spectral_centroids2))\n",
    "#Zero Crossings\n",
    "    featuredf.iloc[ind,3]=sum(zero_crossings2)\n",
    "#Spectral Rolloff\n",
    "    featuredf.iloc[ind,5]=np.mean(normalize(spectral_rolloff2))\n",
    "#mfcc\n",
    "    featuredf.iloc[ind,6:20]=np.mean(mfccs2,1)\n",
    "    ind=ind+1;"
   ]
  },
  {
   "cell_type": "markdown",
   "metadata": {},
   "source": [
    "# Imposter3- Feature Extraction"
   ]
  },
  {
   "cell_type": "code",
   "execution_count": 14,
   "metadata": {},
   "outputs": [],
   "source": [
    "#Imposter3 - Zooming in\n",
    "ind=200;\n",
    "for audio3 in audio_list4:\n",
    "    data3,sample_rate3=librosa.load(audio3)\n",
    "    featuredf.iloc[ind,1]=np.mean(data3)\n",
    "    featuredf.iloc[ind,2]=np.std(data3)  \n",
    "    zero_crossings3 = librosa.zero_crossings(data3, pad=False)\n",
    "    spectral_centroids3 = librosa.feature.spectral_centroid(data3, sr=sr3)[0]\n",
    "    spectral_rolloff3 = librosa.feature.spectral_rolloff(data3+0.01, sr=sr3)[0]\n",
    "    mfccs3 = librosa.feature.mfcc(data3, sr=sr3,n_mfcc=14)\n",
    "#Spectral Centroid\n",
    "    featuredf.iloc[ind,4]=np.mean(normalize(spectral_centroids3))\n",
    "#Zero Crossings\n",
    "    featuredf.iloc[ind,3]=sum(zero_crossings3)\n",
    "#Spectral Rolloff\n",
    "    featuredf.iloc[ind,5]=np.mean(normalize(spectral_rolloff3))\n",
    "#mfcc\n",
    "    featuredf.iloc[ind,6:20]=np.mean(mfccs3,1)\n",
    "    ind=ind+1;"
   ]
  },
  {
   "cell_type": "markdown",
   "metadata": {},
   "source": [
    "# Imposter4 - Feature Extraction"
   ]
  },
  {
   "cell_type": "code",
   "execution_count": 15,
   "metadata": {},
   "outputs": [],
   "source": [
    "#Imposter3 - Zooming in\n",
    "ind=240;\n",
    "for audio4 in audio_list5:\n",
    "    data4,sample_rate4=librosa.load(audio4)\n",
    "    featuredf.iloc[ind,1]=np.mean(data4)\n",
    "    featuredf.iloc[ind,2]=np.std(data4)  \n",
    "    zero_crossings4 = librosa.zero_crossings(data4, pad=False)\n",
    "    spectral_centroids4 = librosa.feature.spectral_centroid(data4, sr=sr4)[0]\n",
    "    spectral_rolloff4 = librosa.feature.spectral_rolloff(data4+0.01, sr=sr4)[0]\n",
    "    mfccs4 = librosa.feature.mfcc(data4, sr=sr4,n_mfcc=14)\n",
    "#Spectral Centroid\n",
    "    featuredf.iloc[ind,4]=np.mean(normalize(spectral_centroids4))\n",
    "#Zero Crossings\n",
    "    featuredf.iloc[ind,3]=sum(zero_crossings4)\n",
    "#Spectral Rolloff\n",
    "    featuredf.iloc[ind,5]=np.mean(normalize(spectral_rolloff4))\n",
    "#mfcc\n",
    "    featuredf.iloc[ind,6:20]=np.mean(mfccs4,1)\n",
    "    ind=ind+1;"
   ]
  },
  {
   "cell_type": "code",
   "execution_count": 16,
   "metadata": {},
   "outputs": [],
   "source": [
    "featuredf.to_csv(\"C:/Users/Ajinkya/Downloads/Voice Authentication Project/Feature Extraction samples AJ_mix.csv\", header=True, index=False)  "
   ]
  },
  {
   "cell_type": "markdown",
   "metadata": {
    "id": "s5qNBb0SwcUr"
   },
   "source": [
    "# Classification"
   ]
  },
  {
   "cell_type": "code",
   "execution_count": 17,
   "metadata": {
    "executionInfo": {
     "elapsed": 5,
     "status": "ok",
     "timestamp": 1643885270264,
     "user": {
      "displayName": "Kalim Ullah",
      "photoUrl": "https://lh3.googleusercontent.com/a-/AOh14GiSTV-ChoAx8azYZoxPK4nJKXjjfC1Ztd890xT4oA=s64",
      "userId": "03962022331434700669"
     },
     "user_tz": -300
    },
    "id": "9SPb7oIM0qaM"
   },
   "outputs": [],
   "source": [
    "# Import necessary modules\n",
    "from sklearn.model_selection import train_test_split\n",
    "from sklearn.metrics import mean_squared_error\n",
    "from math import sqrt\n",
    "# Keras specific\n",
    "import keras\n",
    "from sklearn.linear_model import LogisticRegression;\n",
    "from sklearn.metrics import classification_report;\n",
    "from sklearn.metrics import roc_auc_score\n",
    "from sklearn.metrics import roc_curve\n",
    "from sklearn.metrics import accuracy_score\n",
    "import seaborn as sns\n",
    "from sklearn.metrics import confusion_matrix\n",
    "from sklearn.preprocessing import StandardScaler"
   ]
  },
  {
   "cell_type": "code",
   "execution_count": 18,
   "metadata": {
    "colab": {
     "base_uri": "https://localhost:8080/"
    },
    "executionInfo": {
     "elapsed": 359,
     "status": "ok",
     "timestamp": 1643885328993,
     "user": {
      "displayName": "Kalim Ullah",
      "photoUrl": "https://lh3.googleusercontent.com/a-/AOh14GiSTV-ChoAx8azYZoxPK4nJKXjjfC1Ztd890xT4oA=s64",
      "userId": "03962022331434700669"
     },
     "user_tz": -300
    },
    "id": "qc5gBYE_gokA",
    "outputId": "69deb51b-d20d-4f8a-de7c-6453fb998b56"
   },
   "outputs": [
    {
     "name": "stdout",
     "output_type": "stream",
     "text": [
      "(280, 19)\n",
      "(280,)\n",
      "(224, 19) (224,)\n",
      "(56, 19) (56,)\n"
     ]
    }
   ],
   "source": [
    "y=featuredf.label\n",
    "x=featuredf.drop(['label','User'],axis=1)\n",
    "print(x.shape)\n",
    "print(y.shape)\n",
    "x_train,x_test,y_train,y_test=train_test_split(x,y,test_size=0.2,random_state=40)\n",
    "scaler = StandardScaler()\n",
    "scaler.fit(x_train)\n",
    "\n",
    "x_train = scaler.transform(x_train)\n",
    "x_test = scaler.transform(x_test)\n",
    "print(x_train.shape,y_train.shape)\n",
    "print(x_test.shape,y_test.shape)"
   ]
  },
  {
   "cell_type": "markdown",
   "metadata": {
    "id": "vKftFDqiHNox"
   },
   "source": [
    "# Logistic Regression"
   ]
  },
  {
   "cell_type": "code",
   "execution_count": 19,
   "metadata": {
    "colab": {
     "base_uri": "https://localhost:8080/",
     "height": 512
    },
    "executionInfo": {
     "elapsed": 405,
     "status": "ok",
     "timestamp": 1643885335157,
     "user": {
      "displayName": "Kalim Ullah",
      "photoUrl": "https://lh3.googleusercontent.com/a-/AOh14GiSTV-ChoAx8azYZoxPK4nJKXjjfC1Ztd890xT4oA=s64",
      "userId": "03962022331434700669"
     },
     "user_tz": -300
    },
    "id": "x_kHrRjN4WTs",
    "outputId": "5622dab8-7e40-4ed3-a85c-8a51266d68aa"
   },
   "outputs": [
    {
     "name": "stdout",
     "output_type": "stream",
     "text": [
      "ACC:1.000\n",
      "AUC:1.000\n",
      "\n",
      "Test confusion_matrix\n",
      "              precision    recall  f1-score   support\n",
      "\n",
      "         0.0       1.00      1.00      1.00        33\n",
      "         1.0       1.00      1.00      1.00        23\n",
      "\n",
      "    accuracy                           1.00        56\n",
      "   macro avg       1.00      1.00      1.00        56\n",
      "weighted avg       1.00      1.00      1.00        56\n",
      "\n"
     ]
    },
    {
     "data": {
      "image/png": "[encoded data removed]",
      "text/plain": [
       "<Figure size 432x288 with 2 Axes>"
      ]
     },
     "metadata": {
      "needs_background": "light"
     },
     "output_type": "display_data"
    }
   ],
   "source": [
    "logreg = LogisticRegression();\n",
    "logreg.fit(x_train,y_train);\n",
    "y_pred = logreg.predict(x_test);\n",
    "cf_matrix = confusion_matrix(y_test, y_pred);\n",
    "print('ACC:'+ \"{0:.3f}\".format(accuracy_score(y_test, y_pred)))\n",
    "print('AUC:'+\"{0:.3f}\".format(roc_auc_score(y_test, y_pred)))\n",
    "print(\"\\nTest confusion_matrix\")\n",
    "sns.heatmap(cf_matrix, annot=True, cmap='Blues')\n",
    "plt.xlabel('Predicted', fontsize=12)\n",
    "plt.ylabel('True', fontsize=12)\n",
    "print(classification_report(y_test, y_pred))"
   ]
  },
  {
   "cell_type": "markdown",
   "metadata": {
    "id": "TH15xHVDHTU_"
   },
   "source": [
    "# SVM"
   ]
  },
  {
   "cell_type": "code",
   "execution_count": 20,
   "metadata": {
    "colab": {
     "base_uri": "https://localhost:8080/",
     "height": 512
    },
    "executionInfo": {
     "elapsed": 1001,
     "status": "ok",
     "timestamp": 1643885348961,
     "user": {
      "displayName": "Kalim Ullah",
      "photoUrl": "https://lh3.googleusercontent.com/a-/AOh14GiSTV-ChoAx8azYZoxPK4nJKXjjfC1Ztd890xT4oA=s64",
      "userId": "03962022331434700669"
     },
     "user_tz": -300
    },
    "id": "4fSn2fem2Hh7",
    "outputId": "ed112ab7-2ab5-442f-f18d-005b71760f25"
   },
   "outputs": [
    {
     "name": "stdout",
     "output_type": "stream",
     "text": [
      "ACC:1.000\n",
      "AUC:1.000\n",
      "\n",
      "Test confusion_matrix\n",
      "              precision    recall  f1-score   support\n",
      "\n",
      "         0.0       1.00      1.00      1.00        33\n",
      "         1.0       1.00      1.00      1.00        23\n",
      "\n",
      "    accuracy                           1.00        56\n",
      "   macro avg       1.00      1.00      1.00        56\n",
      "weighted avg       1.00      1.00      1.00        56\n",
      "\n"
     ]
    },
    {
     "data": {
      "image/png": "[encoded data removed]",
      "text/plain": [
       "<Figure size 432x288 with 2 Axes>"
      ]
     },
     "metadata": {
      "needs_background": "light"
     },
     "output_type": "display_data"
    }
   ],
   "source": [
    "from sklearn.svm import SVC\n",
    "from sklearn.model_selection import GridSearchCV\n",
    "from sklearn.model_selection import LeavePGroupsOut\n",
    "from sklearn.model_selection import KFold\n",
    "from sklearn.metrics import accuracy_score\n",
    "clSvm = SVC(kernel = 'linear') \n",
    "p = {'kernel':('linear',), 'C':[0.001,0.1,1,10]}\n",
    "clSvm= GridSearchCV(clSvm, p,cv = KFold(4))\n",
    "clSvm.fit(x_train, y_train )\n",
    "y_pred = clSvm.predict(x_test)\n",
    "print('ACC:'+ \"{0:.3f}\".format(accuracy_score(y_test, y_pred)))\n",
    "print('AUC:'+\"{0:.3f}\".format(roc_auc_score(y_test, y_pred)))\n",
    "\n",
    "cf_matrix = confusion_matrix(y_test, y_pred)\n",
    "print(\"\\nTest confusion_matrix\")\n",
    "sns.heatmap(cf_matrix, annot=True, cmap='Blues')\n",
    "plt.xlabel('Predicted', fontsize=12)\n",
    "plt.ylabel('True', fontsize=12)\n",
    "print(classification_report(y_test, y_pred))"
   ]
  },
  {
   "cell_type": "markdown",
   "metadata": {
    "id": "JOAkI0xwHX5G"
   },
   "source": [
    "# Naivebayes"
   ]
  },
  {
   "cell_type": "code",
   "execution_count": 21,
   "metadata": {
    "colab": {
     "base_uri": "https://localhost:8080/",
     "height": 512
    },
    "executionInfo": {
     "elapsed": 409,
     "status": "ok",
     "timestamp": 1643885352551,
     "user": {
      "displayName": "Kalim Ullah",
      "photoUrl": "https://lh3.googleusercontent.com/a-/AOh14GiSTV-ChoAx8azYZoxPK4nJKXjjfC1Ztd890xT4oA=s64",
      "userId": "03962022331434700669"
     },
     "user_tz": -300
    },
    "id": "HQ9zBbXi-I8R",
    "outputId": "39cf0b30-0f83-4baa-925e-a65f41e370c3"
   },
   "outputs": [
    {
     "name": "stdout",
     "output_type": "stream",
     "text": [
      "ACC:0.875\n",
      "AUC:0.861\n",
      "\n",
      "Test confusion_matrix\n",
      "              precision    recall  f1-score   support\n",
      "\n",
      "         0.0       0.86      0.94      0.90        33\n",
      "         1.0       0.90      0.78      0.84        23\n",
      "\n",
      "    accuracy                           0.88        56\n",
      "   macro avg       0.88      0.86      0.87        56\n",
      "weighted avg       0.88      0.88      0.87        56\n",
      "\n"
     ]
    },
    {
     "data": {
      "image/png": "[encoded data removed]",
      "text/plain": [
       "<Figure size 432x288 with 2 Axes>"
      ]
     },
     "metadata": {
      "needs_background": "light"
     },
     "output_type": "display_data"
    }
   ],
   "source": [
    "from sklearn.naive_bayes import GaussianNB\n",
    "model = GaussianNB()\n",
    "model.fit(x_train,y_train)\n",
    "y_pred= model.predict(x_test)\n",
    "cf_matrix = confusion_matrix(y_test, y_pred)\n",
    "print('ACC:'+ \"{0:.3f}\".format(accuracy_score(y_test, y_pred)))\n",
    "print('AUC:'+\"{0:.3f}\".format(roc_auc_score(y_test, y_pred)))\n",
    "print(\"\\nTest confusion_matrix\")\n",
    "sns.heatmap(cf_matrix, annot=True, cmap='Blues')\n",
    "plt.xlabel('Predicted', fontsize=12)\n",
    "plt.ylabel('True', fontsize=12)\n",
    "\n",
    "print(classification_report(y_test, y_pred))"
   ]
  },
  {
   "cell_type": "markdown",
   "metadata": {
    "id": "NdYVKndEKCuv"
   },
   "source": [
    "# Decision  Tree"
   ]
  },
  {
   "cell_type": "code",
   "execution_count": 22,
   "metadata": {
    "colab": {
     "base_uri": "https://localhost:8080/",
     "height": 512
    },
    "executionInfo": {
     "elapsed": 810,
     "status": "ok",
     "timestamp": 1643885362525,
     "user": {
      "displayName": "Kalim Ullah",
      "photoUrl": "https://lh3.googleusercontent.com/a-/AOh14GiSTV-ChoAx8azYZoxPK4nJKXjjfC1Ztd890xT4oA=s64",
      "userId": "03962022331434700669"
     },
     "user_tz": -300
    },
    "id": "SAI_8knQ__8G",
    "outputId": "6a753509-5b70-4800-9200-48643793a777"
   },
   "outputs": [
    {
     "name": "stdout",
     "output_type": "stream",
     "text": [
      "ACC:0.946\n",
      "AUC:0.941\n",
      "\n",
      "Test confusion_matrix\n",
      "              precision    recall  f1-score   support\n",
      "\n",
      "         0.0       0.94      0.97      0.96        33\n",
      "         1.0       0.95      0.91      0.93        23\n",
      "\n",
      "    accuracy                           0.95        56\n",
      "   macro avg       0.95      0.94      0.94        56\n",
      "weighted avg       0.95      0.95      0.95        56\n",
      "\n"
     ]
    },
    {
     "data": {
      "image/png": "[encoded data removed]",
      "text/plain": [
       "<Figure size 432x288 with 2 Axes>"
      ]
     },
     "metadata": {
      "needs_background": "light"
     },
     "output_type": "display_data"
    }
   ],
   "source": [
    "from sklearn.tree import DecisionTreeClassifier;\n",
    "dt_clf = DecisionTreeClassifier()\n",
    "dt_clf.fit(x_train,y_train)\n",
    "y_pred = dt_clf.predict(x_test)\n",
    "cf_matrix = confusion_matrix(y_test, y_pred)\n",
    "print('ACC:'+ \"{0:.3f}\".format(accuracy_score(y_test, y_pred)))\n",
    "print('AUC:'+\"{0:.3f}\".format(roc_auc_score(y_test, y_pred)))\n",
    "print(\"\\nTest confusion_matrix\")\n",
    "sns.heatmap(cf_matrix, annot=True, cmap='Blues')\n",
    "plt.xlabel('Predicted', fontsize=12)\n",
    "plt.ylabel('True', fontsize=12)\n",
    "\n",
    "print(classification_report(y_test, y_pred))"
   ]
  },
  {
   "cell_type": "markdown",
   "metadata": {
    "id": "AvwIwGZvNLI2"
   },
   "source": [
    "# KNN"
   ]
  },
  {
   "cell_type": "code",
   "execution_count": 23,
   "metadata": {
    "colab": {
     "base_uri": "https://localhost:8080/",
     "height": 512
    },
    "executionInfo": {
     "elapsed": 990,
     "status": "ok",
     "timestamp": 1643885629243,
     "user": {
      "displayName": "Kalim Ullah",
      "photoUrl": "https://lh3.googleusercontent.com/a-/AOh14GiSTV-ChoAx8azYZoxPK4nJKXjjfC1Ztd890xT4oA=s64",
      "userId": "03962022331434700669"
     },
     "user_tz": -300
    },
    "id": "tCc_Y7m8NWtz",
    "outputId": "2e925797-f91c-4b44-8e74-87f4e3835575"
   },
   "outputs": [
    {
     "name": "stdout",
     "output_type": "stream",
     "text": [
      "ACC:1.000\n",
      "AUC:1.000\n",
      "\n",
      "Test confusion_matrix\n",
      "              precision    recall  f1-score   support\n",
      "\n",
      "         0.0       1.00      1.00      1.00        33\n",
      "         1.0       1.00      1.00      1.00        23\n",
      "\n",
      "    accuracy                           1.00        56\n",
      "   macro avg       1.00      1.00      1.00        56\n",
      "weighted avg       1.00      1.00      1.00        56\n",
      "\n"
     ]
    },
    {
     "data": {
      "image/png": "[encoded data removed]",
      "text/plain": [
       "<Figure size 432x288 with 2 Axes>"
      ]
     },
     "metadata": {
      "needs_background": "light"
     },
     "output_type": "display_data"
    }
   ],
   "source": [
    "from sklearn.neighbors import KNeighborsClassifier\n",
    "knnclf = KNeighborsClassifier(n_neighbors=5)\n",
    "knnclf.fit(x_train, y_train)\n",
    "y_pred = knnclf.predict(x_test)\n",
    "cf_matrix = confusion_matrix(y_test, y_pred)\n",
    "print('ACC:'+ \"{0:.3f}\".format(accuracy_score(y_test, y_pred)))\n",
    "print('AUC:'+\"{0:.3f}\".format(roc_auc_score(y_test, y_pred)))\n",
    "print(\"\\nTest confusion_matrix\")\n",
    "sns.heatmap(cf_matrix, annot=True, cmap='Blues')\n",
    "plt.xlabel('Predicted', fontsize=12)\n",
    "plt.ylabel('True', fontsize=12)\n",
    "\n",
    "print(classification_report(y_test, y_pred))"
   ]
  },
  {
   "cell_type": "markdown",
   "metadata": {},
   "source": [
    "# Save and Load Model Using joblib"
   ]
  },
  {
   "cell_type": "code",
   "execution_count": 24,
   "metadata": {},
   "outputs": [
    {
     "data": {
      "text/plain": [
       "['logreg_model.sav']"
      ]
     },
     "execution_count": 24,
     "metadata": {},
     "output_type": "execute_result"
    }
   ],
   "source": [
    "filename='logreg_model.sav'\n",
    "joblib.dump(logreg, filename)"
   ]
  },
  {
   "cell_type": "code",
   "execution_count": 25,
   "metadata": {},
   "outputs": [
    {
     "name": "stdout",
     "output_type": "stream",
     "text": [
      "1.0\n"
     ]
    }
   ],
   "source": [
    "loaded_model = joblib.load(filename)\n",
    "result = loaded_model.score(x_test, y_test)\n",
    "print(result)"
   ]
  },
  {
   "cell_type": "code",
   "execution_count": null,
   "metadata": {},
   "outputs": [],
   "source": []
  }
 ],
 "metadata": {
  "colab": {
   "collapsed_sections": [],
   "name": "Feature_Extraction_020322v1.ipynb",
   "provenance": []
  },
  "kernelspec": {
   "display_name": "Python 3",
   "language": "python",
   "name": "python3"
  },
  "language_info": {
   "codemirror_mode": {
    "name": "ipython",
    "version": 3
   },
   "file_extension": ".py",
   "mimetype": "text/x-python",
   "name": "python",
   "nbconvert_exporter": "python",
   "pygments_lexer": "ipython3",
   "version": "3.8.5"
  }
 },
 "nbformat": 4,
 "nbformat_minor": 1
}
